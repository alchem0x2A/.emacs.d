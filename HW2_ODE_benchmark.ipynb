{
  "nbformat": 4,
  "nbformat_minor": 0,
  "metadata": {
    "colab": {
      "name": "HW2_ODE_benchmark.ipynb",
      "provenance": [],
      "collapsed_sections": [],
      "toc_visible": true,
      "authorship_tag": "ABX9TyMhuBeHqd/IDxPArU4MV806",
      "include_colab_link": true
    },
    "kernelspec": {
      "name": "python3",
      "display_name": "Python 3"
    }
  },
  "cells": [
    {
      "cell_type": "markdown",
      "metadata": {
        "id": "view-in-github",
        "colab_type": "text"
      },
      "source": [
        "<a href=\"https://colab.research.google.com/github/alchem0x2A/.emacs.d/blob/master/HW2_ODE_benchmark.ipynb\" target=\"_parent\"><img src=\"https://colab.research.google.com/assets/colab-badge.svg\" alt=\"Open In Colab\"/></a>"
      ]
    },
    {
      "cell_type": "markdown",
      "metadata": {
        "id": "JhCfdfwpjYGb",
        "colab_type": "text"
      },
      "source": [
        "[Open in Google Colab](https://colab.research.google.com/drive/1pfaC5tYwUbPofaC1vbXqaW4gIVjPwZiU#scrollTo=JhCfdfwpjYGb)\n",
        "# Numerical analysis of the stiff ODE equation of HW2 Q1\n",
        "\n",
        "This tutorial provides a simple benchmarking of the solution of stiff ODE in Hw2 Q1, or namely\n",
        "$$\n",
        "\\frac{d^2 H}{d X^2} = H \\sqrt{\\left(1 + \\left(\\frac{d H}{d X}\\right)^2\\right)^3}\n",
        "$$\n",
        "\n",
        "It is norotious as an ivp ode, as the solution itself will never converge to 0 (though can be solved via bvp). This notebook trys to develop the optimal initial values that fulfills $H(X_{\\rm max}) = 0$ and $dH/dx(X_{\\rm max}) = 0$.\n",
        "\n",
        "The next cell is the ode function framework using `scipy.integrate.solve_ivp`.\n",
        "\n",
        "\n",
        "The helper functions `crossing` and `chg_sign` checks whether $H$ or $dH/dX$ has a 0-crossing point.\n",
        "\n"
      ]
    },
    {
      "cell_type": "code",
      "metadata": {
        "id": "T0x74CsVjWec",
        "colab_type": "code",
        "colab": {}
      },
      "source": [
        "import numpy as np\n",
        "from scipy.integrate import solve_ivp\n",
        "import matplotlib.pyplot as plt\n",
        "from numba import jit, njit\n",
        "\n",
        "def odefun(t, y):\n",
        "  h, dh = y\n",
        "  # print(h, dh)\n",
        "  dh1 = dh\n",
        "  ddh1 = h * np.sqrt((1 + dh ** 2) ** 3)\n",
        "  return np.vstack([dh1, ddh1])\n",
        "\n",
        "def solve(y0, tmax=5, neval=128, method=\"RK45\"):\n",
        "  # print(tmax)\n",
        "  sol = solve_ivp(odefun, \n",
        "                  t_span=[0, tmax],\n",
        "                  t_eval=np.linspace(0, tmax, neval),\n",
        "                  y0=y0,\n",
        "                  events=[crossing, chg_sign],\n",
        "                  method=method,\n",
        "                  vectorized=True,\n",
        "                  dense_output=True,\n",
        "                  )\n",
        "  return sol\n",
        "\n",
        "def crossing(t, y):\n",
        "  \"\"\"A crossing zero event for y0\n",
        "  \"\"\"\n",
        "  return y[0]\n",
        "\n",
        "def chg_sign(t, y):\n",
        "  \"\"\"Change sign event for y1\n",
        "  \"\"\"\n",
        "  return y[1]"
      ],
      "execution_count": 0,
      "outputs": []
    },
    {
      "cell_type": "markdown",
      "metadata": {
        "id": "rZmte8PcDUJt",
        "colab_type": "text"
      },
      "source": [
        "## Target quantity for optimization\n",
        "\n",
        "Next we create a function to get the point where $H(X) \\to 0$ or $dH/dX(X) \\to 0$."
      ]
    },
    {
      "cell_type": "code",
      "metadata": {
        "id": "8OHi7pZxDgsU",
        "colab_type": "code",
        "outputId": "8e2ca545-bde6-4968-a46a-d7679b018a19",
        "colab": {
          "base_uri": "https://localhost:8080/",
          "height": 367
        }
      },
      "source": [
        "def get_min(y0, tmax=10):\n",
        "  \"\"\"Get the minimal value for y\n",
        "  \"\"\"\n",
        "  sol = solve(y0, tmax=tmax)\n",
        "  if len(sol.t_events[0]) > 0:\n",
        "    t_min = sol.t_events[0][0]\n",
        "    y_min = sol.sol(t_min)\n",
        "  elif len(sol.t_events[1]) > 0:\n",
        "    t_min = sol.t_events[1][0]\n",
        "    y_min = sol.sol(t_min)\n",
        "  else:\n",
        "    t_min = 0\n",
        "    y_min = [np.inf, np.inf]\n",
        "  return t_min, y_min\n",
        "\n",
        "# Case where H -> 0\n",
        "t_min, y_min = get_min([1, -2])\n",
        "print(\"Case 1: \\nH crosses 0 at:\", t_min, \n",
        "      \"and H is: \", y_min)\n",
        "\n",
        "# Case where dH/dX -> 0\n",
        "t_min, y_min = get_min([1, -1])\n",
        "print(\"Case 2:\\nH crosses 0 at:\", t_min, \n",
        "      \"and H is: \", y_min)\n",
        "\n",
        "# Profiling\n",
        "%timeit get_min([1, -1])\n",
        "\n",
        "# Plot the profiles\n",
        "sol1 = solve([1, -2])\n",
        "sol2 = solve([1, -1])\n",
        "\n",
        "plt.plot(sol1.t, sol1.y[0], label=\"Case 1\")\n",
        "plt.plot(sol2.t, sol2.y[0], label=\"Case 2\")\n",
        "plt.axhline(y=0, ls=\"--\")\n",
        "plt.legend()\n"
      ],
      "execution_count": 6,
      "outputs": [
        {
          "output_type": "stream",
          "text": [
            "Case 1: \n",
            "H crosses 0 at: 1.5824116099686787 and H is:  [ 0.         -0.34301523]\n",
            "Case 2:\n",
            "H crosses 0 at: 0.9451675253609839 and H is:  [ 6.42047582e-01 -4.16333634e-17]\n",
            "10 loops, best of 3: 31.3 ms per loop\n"
          ],
          "name": "stdout"
        },
        {
          "output_type": "execute_result",
          "data": {
            "text/plain": [
              "<matplotlib.legend.Legend at 0x7ff3339caa20>"
            ]
          },
          "metadata": {
            "tags": []
          },
          "execution_count": 6
        },
        {
          "output_type": "display_data",
          "data": {
            "image/png": "[encoded data removed]",
            "text/plain": [
              "<Figure size 432x288 with 1 Axes>"
            ]
          },
          "metadata": {
            "tags": [],
            "needs_background": "light"
          }
        }
      ]
    },
    {
      "cell_type": "markdown",
      "metadata": {
        "id": "4M3SGrJBFPU1",
        "colab_type": "text"
      },
      "source": [
        "The target is to get the value $X_{\\rm max}$ as high as possible. We can do a simple parameter screening to achieve this:"
      ]
    },
    {
      "cell_type": "code",
      "metadata": {
        "id": "ZeqdLjMC34Jf",
        "colab_type": "code",
        "outputId": "d2b7d007-4c8b-47ee-f7e0-16bc8b96d477",
        "colab": {
          "base_uri": "https://localhost:8080/",
          "height": 299
        }
      },
      "source": [
        "y1 = -1\n",
        "y0s = np.linspace(0.0, 1.5, 64)\n",
        "tm = np.array([get_min([y_, y1])[0] for y_ in y0s])\n",
        "print(\"Possible solution for y0 is near:\", y0s[tm.argmax()])\n",
        "plt.plot(y0s, tm)"
      ],
      "execution_count": 7,
      "outputs": [
        {
          "output_type": "stream",
          "text": [
            "Possible solution for y0 is near: 0.7619047619047619\n"
          ],
          "name": "stdout"
        },
        {
          "output_type": "execute_result",
          "data": {
            "text/plain": [
              "[<matplotlib.lines.Line2D at 0x7ff330ccae48>]"
            ]
          },
          "metadata": {
            "tags": []
          },
          "execution_count": 7
        },
        {
          "output_type": "display_data",
          "data": {
            "image/png": "[encoded data removed]",
            "text/plain": [
              "<Figure size 432x288 with 1 Axes>"
            ]
          },
          "metadata": {
            "tags": [],
            "needs_background": "light"
          }
        }
      ]
    },
    {
      "cell_type": "markdown",
      "metadata": {
        "id": "Ux1iDbf4JwGo",
        "colab_type": "text"
      },
      "source": [
        "## Likelihood of $H(0), dH/dX(0)$\n",
        " To get the most possible $H0, dH/dX(0)$ values, we can use a 2D plot for the likelihood (here just the linear relation of $X_{\\rm max}$). The brightest region of the output figure resembles that of the numerical solution made by shooting method."
      ]
    },
    {
      "cell_type": "code",
      "metadata": {
        "id": "wdQrt4iQjXj8",
        "colab_type": "code",
        "colab": {
          "base_uri": "https://localhost:8080/",
          "height": 317
        },
        "outputId": "95d97b15-cfce-4e37-b9f7-b3ab5dd6790f"
      },
      "source": [
        "from scipy.interpolate import RectBivariateSpline\n",
        "from pathlib import Path\n",
        "# Change N to larger numbers if you want finer mesh\n",
        "N = 100\n",
        "xx, yy = np.meshgrid(np.linspace(-1.5, 1.5, N), \n",
        "                     np.linspace(-10, 10, N), indexing=\"ij\")\n",
        "\n",
        "f_res = Path(\"res_zz_{:d}.npy\".format(N))\n",
        "if not f_res.is_file():\n",
        "\n",
        "\n",
        "  zz = np.empty_like(xx) # t-value\n",
        "  for i in range(N):\n",
        "    for j in range(N):\n",
        "      t_min, y_min = get_min(y0=[xx[i, j], yy[i, j]])\n",
        "      zz[i, j] = t_min\n",
        "  # Save to file\n",
        "  np.save(f_res, zz)\n",
        "else:\n",
        "  zz = np.load(f_res, allow_pickle=True)\n",
        "\n",
        "# Bivariate smoothing plot\n",
        "sps = RectBivariateSpline(xx[:, 0], yy[0, :], zz)\n",
        "N_smooth = max(256, 2 * N)\n",
        "xx_smooth, yy_smooth = np.meshgrid(np.linspace(xx.min(), xx.max(), N_smooth), \n",
        "                                   np.linspace(yy.min(), yy.max(), N_smooth), indexing=\"ij\")\n",
        "\n",
        "\n",
        "zz_smooth = sps(xx_smooth[:, 0], yy_smooth[0, :])\n",
        "# zz_1 = calculate(xx, yy)\n",
        "\n",
        "plt.figure(0)\n",
        "plt.pcolor(90 + np.degrees(np.arctan(yy_smooth)), xx_smooth, zz_smooth)\n",
        "#plt.pcolor(xx_smooth, yy_smooth, zz_smooth)\n",
        "plt.xlabel(\"$H(0)$\")\n",
        "plt.ylabel(\"$dH/dX(0)$\")\n",
        "cb = plt.colorbar()\n",
        "cb.ax.set_title(\"Likelihood $X_{\\\\mathrm{max}}$\")\n"
      ],
      "execution_count": 92,
      "outputs": [
        {
          "output_type": "execute_result",
          "data": {
            "text/plain": [
              "Text(0.5, 1.0, 'Likelihood $X_{\\\\mathrm{max}}$')"
            ]
          },
          "metadata": {
            "tags": []
          },
          "execution_count": 92
        },
        {
          "output_type": "display_data",
          "data": {
            "image/png": "[encoded data removed]",
            "text/plain": [
              "<Figure size 432x288 with 2 Axes>"
            ]
          },
          "metadata": {
            "tags": [],
            "needs_background": "light"
          }
        }
      ]
    },
    {
      "cell_type": "markdown",
      "metadata": {
        "id": "sXIV31PIJVth",
        "colab_type": "text"
      },
      "source": [
        "# Optimization test\n",
        "\n",
        "In this part we will the $X_{\\rm max}$ value as benchmarking for the performance of different multivariate minimizers.\n",
        "\n",
        "Let's first try to minimize $-X_{\\rm max}$ for a certain $dH/dX(0)$ and ranging $H(0)$. Let's try 3 methods in `scipy.optimize`\n",
        "\n",
        "- Scalar function optimization\n",
        "- (Multi)variable vector minimization\n",
        "- Global minimization"
      ]
    },
    {
      "cell_type": "markdown",
      "metadata": {
        "id": "b2prSgDGZDym",
        "colab_type": "text"
      },
      "source": [
        "## Testing scalar function min solver"
      ]
    },
    {
      "cell_type": "code",
      "metadata": {
        "id": "HsSnDtEg1572",
        "colab_type": "code",
        "colab": {
          "base_uri": "https://localhost:8080/",
          "height": 68
        },
        "outputId": "bb14b69f-12d1-450d-c57d-db4c83158b65"
      },
      "source": [
        "# Testing scalar function `min y = f(x)`\n",
        "from scipy.optimize import minimize_scalar\n",
        "from time import perf_counter\n",
        "\n",
        "avail_methods = [\"Brent\", \"Golden\"]\n",
        "dhdx = -5\n",
        "print(\"=\"*10, \"Testing minimize_scalar methods\", \"=\"*10)\n",
        "for method in avail_methods:\n",
        "  t_ = perf_counter()\n",
        "  res = minimize_scalar(lambda y: -get_min(y0=[y, dhdx])[0], method=method)\n",
        "  print(\"Method {0:s}\\tXmax {1:.2f}\\tH0 {2:.5f}\\t{3:.3f} s\".format(method, -res.fun, \n",
        "                                                        res.x, perf_counter() - t_))"
      ],
      "execution_count": 56,
      "outputs": [
        {
          "output_type": "stream",
          "text": [
            "========== Testing minimize_scalar methods ==========\n",
            "Method Brent\tXmax 9.13\tH0 1.27253\t0.750 s\n",
            "Method Golden\tXmax 9.41\tH0 1.27253\t0.916 s\n"
          ],
          "name": "stdout"
        }
      ]
    },
    {
      "cell_type": "markdown",
      "metadata": {
        "id": "L6TGmQIGZRIX",
        "colab_type": "text"
      },
      "source": [
        "## Testing (multi)variable methods"
      ]
    },
    {
      "cell_type": "code",
      "metadata": {
        "id": "hwIUUZauYxHB",
        "colab_type": "code",
        "colab": {
          "base_uri": "https://localhost:8080/",
          "height": 272
        },
        "outputId": "43af0533-577a-43d3-ce56-dbbba470414d"
      },
      "source": [
        "# Testing function `min <y> = f(<x>, *param)`\n",
        "from scipy.optimize import minimize\n",
        "from time import perf_counter\n",
        "\n",
        "avail_methods = [\"Nelder-Mead\",\n",
        "                 \"Powell\" ,\n",
        "                 \"CG\" ,\n",
        "                 \"BFGS\" ,\n",
        "                 \"Newton-CG\" ,\n",
        "                 \"L-BFGS-B\" ,\n",
        "                 \"TNC\" ,\n",
        "                 \"COBYLA\" ,\n",
        "                 \"SLSQP\" ,\n",
        "                 \"trust-constr\",\n",
        "                 \"dogleg\" ,\n",
        "                 \"trust-ncg\" ,\n",
        "                 \"trust-exact\" ,\n",
        "                 \"trust-krylov\" ,]\n",
        "dhdx = -5\n",
        "print(\"=\"*10, \"Testing minimize methods\", \"=\"*10)\n",
        "for method in avail_methods:\n",
        "  try:\n",
        "    t_ = perf_counter()\n",
        "    res = minimize(lambda y: -get_min(y0=[y, dhdx])[0], x0=1, method=method)\n",
        "    if res.success:\n",
        "      print(\"Method {0:s}\\tXmax {1:.2f}\\tH0 {2}\\t{3:.3f} s\".format(method, -res.fun, \n",
        "                                                                   np.float(res.x), perf_counter() - t_))\n",
        "    else:\n",
        "      print(\"Method {0:s}\\t FAILED because:\".format(method), res.message)\n",
        "  except Exception as e:\n",
        "    # msg = e.message\n",
        "    print(\"Method {0:s}\\t FAILED because:\".format(method), e)\n",
        "  "
      ],
      "execution_count": 61,
      "outputs": [
        {
          "output_type": "stream",
          "text": [
            "========== Testing minimize methods ==========\n",
            "Method Nelder-Mead\tXmax 10.00\tH0 1.2725256730482226\t1.358 s\n",
            "Method Powell\tXmax 10.00\tH0 1.2725256730478918\t2.790 s\n",
            "Method CG\t FAILED because: Desired error not necessarily achieved due to precision loss.\n",
            "Method BFGS\t FAILED because: Desired error not necessarily achieved due to precision loss.\n",
            "Method Newton-CG\t FAILED because: Jacobian is required for Newton-CG method\n",
            "Method L-BFGS-B\t FAILED because: b'ABNORMAL_TERMINATION_IN_LNSRCH'\n",
            "Method TNC\t FAILED because: Linear search failed\n",
            "Method COBYLA\tXmax 4.59\tH0 1.2726609375\t0.712 s\n",
            "Method SLSQP\tXmax 7.77\tH0 1.2725254368980237\t1.221 s\n",
            "Method trust-constr\tXmax 8.98\tH0 1.2725256495713202\t2.906 s\n",
            "Method dogleg\t FAILED because: Jacobian is required for dogleg minimization\n",
            "Method trust-ncg\t FAILED because: Jacobian is required for Newton-CG trust-region minimization\n",
            "Method trust-exact\t FAILED because: Jacobian is required for trust region exact minimization.\n",
            "Method trust-krylov\t FAILED because: ('Jacobian is required for trust region ', 'exact minimization.')\n"
          ],
          "name": "stdout"
        }
      ]
    },
    {
      "cell_type": "markdown",
      "metadata": {
        "id": "owCEnKC7dhb8",
        "colab_type": "text"
      },
      "source": [
        "As can be seen, the downhill simplex method (\"Nelder-Mead\") and the Powell's conjugate direction method work best. These methods are well-suited when no gradient information are needed. Constrained minimization methods `COBYLA` `SLSQP` and `trust-constr` work less stable. \n",
        "\n",
        "`CG` and `BFGS` methods surprisingly fails, possibly due to the lack of gradient information give to the function. Maybe works better for multivariable surface?\n",
        "\n",
        "All other methods need gradient as input so cannot be used."
      ]
    },
    {
      "cell_type": "markdown",
      "metadata": {
        "id": "_JGhYef6gcnf",
        "colab_type": "text"
      },
      "source": [
        "## Testing global optimization methods"
      ]
    },
    {
      "cell_type": "code",
      "metadata": {
        "id": "3nOPOrxWggve",
        "colab_type": "code",
        "colab": {
          "base_uri": "https://localhost:8080/",
          "height": 85
        },
        "outputId": "7329d70a-c594-4d3c-e4f9-5ee66a89fd73"
      },
      "source": [
        "# Testing global min function `min <y> = f(<x>, *param)`\n",
        "from scipy import optimize\n",
        "from time import perf_counter\n",
        "\n",
        "avail_methods = [\"differential_evolution\", \n",
        "                 \"shgo\", \"dual_annealing\"]\n",
        "\n",
        "dhdx = -5\n",
        "print(\"=\"*10, \"Testing global min methods\", \"=\"*10)\n",
        "\n",
        "fmin = lambda y: -get_min(y0=[y, dhdx])[0]\n",
        "\n",
        "for method in avail_methods:\n",
        "  solver = getattr(optimize, method)\n",
        "  if method == \"basinhopping\":\n",
        "    params = dict(x0=1)\n",
        "  else:\n",
        "    params = dict(bounds=[(0.5, 1.5)])\n",
        "  try:\n",
        "    t_ = perf_counter()\n",
        "    res = solver(fmin, **params)\n",
        "    if res.success:\n",
        "      print(\"Method {0:s}\\tXmax {1:.2f}\\tH0 {2}\\t{3:.3f} s\".format(method, -res.fun, \n",
        "                                                        np.float(res.x), \n",
        "                                                        perf_counter() - t_))\n",
        "    else:\n",
        "      print(\"Method {0:s}\\t FAILED because:\".format(method), res.message)\n",
        "  except Exception as e:\n",
        "    # msg = e.message\n",
        "    print(\"Method {0:s}\\t FAILED because:\".format(method), e)"
      ],
      "execution_count": 69,
      "outputs": [
        {
          "output_type": "stream",
          "text": [
            "========== Testing global min methods ==========\n",
            "Method differential_evolution\tXmax 9.97\tH0 1.2725256674560983\t8.613 s\n",
            "Method shgo\tXmax 9.91\tH0 1.2725256670665996\t1.235 s\n",
            "Method dual_annealing\tXmax 9.88\tH0 1.2725256768374116\t71.727 s\n"
          ],
          "name": "stdout"
        }
      ]
    },
    {
      "cell_type": "markdown",
      "metadata": {
        "id": "Cr5wnTXPn1AB",
        "colab_type": "text"
      },
      "source": [
        "As can be seen, all the global optimization methods can produce the correct results but quite inefficient compared with the local optimization algorithms."
      ]
    },
    {
      "cell_type": "markdown",
      "metadata": {
        "id": "Tv-R_Ru0oGuS",
        "colab_type": "text"
      },
      "source": [
        "# The \"Correct\" Method: BVP\n",
        "\n",
        "The stiffness of the ODE as an ivp is that numerical solutions of $dH/dX$ is not guaranteed to maintain the same sign, which in turn causes the solution to bump instead of converging to 0 when $X \\to \\infty$.\n",
        "\n",
        "To enforce the solution to take $dH/dX = 0$, we need to code the problem as BVP. The follow codes considers the same `odefun` (of course, using $X$ instead of $t$), while providing Dirichlet BC at $X = 0$ and Neuman at $X = X_{\\rm max}$"
      ]
    },
    {
      "cell_type": "code",
      "metadata": {
        "id": "r_3SXHS3pcLN",
        "colab_type": "code",
        "colab": {
          "base_uri": "https://localhost:8080/",
          "height": 925
        },
        "outputId": "474d9b5a-b98d-4d14-888b-8d4f49df7a06"
      },
      "source": [
        "from scipy.integrate import solve_bvp\n",
        "\n",
        "def bcfun(ya, yb, type=(\"d\", \"n\"), p=(1, 0)):\n",
        "  \"\"\"d --> Dirichlet\n",
        "     n --> Neuman\n",
        "  \"\"\"\n",
        "  which = dict(d=0, n=1)\n",
        "  res_a = ya[which[type[0]]] - p[0] # H or dHdX\n",
        "  res_b = yb[which[type[1]]] - p[1] # H or dHdX\n",
        "  return np.array([res_a, res_b])\n",
        "\n",
        "def bvp_profile(xmax=10, N=100, type=(\"d\", \"n\"), p=(1, 0)):\n",
        "  \"\"\"Need dHdX?\n",
        "  \"\"\"\n",
        "  sol = solve_bvp(odefun, lambda ya, yb: bcfun(ya, yb, type, p),\n",
        "                  x=np.linspace(0, xmax, N),\n",
        "                  y=np.zeros((2, N)))\n",
        "  return sol\n",
        "\n",
        "print(\"=\"*10, \"Tesing of D-N boundary conditions\", \"=\"*10)\n",
        "sol = bvp_profile(10, 100)\n",
        "plt.figure()\n",
        "plt.plot(sol.x, sol.y[0], label=\"$H$\")\n",
        "plt.plot(sol.x, sol.y[1], label=\"$dH/dX$\")\n",
        "plt.xlabel(\"$X$\")\n",
        "plt.legend()\n",
        "plt.title(\"D-N boundary\")\n",
        "\n",
        "print(\"=\"*10, \"Tesing of N-N boundary conditions\", \"=\"*10)\n",
        "plt.figure()\n",
        "sol = bvp_profile(10, 100, type=(\"n\", \"n\"), p=(-10, 0))\n",
        "plt.plot(sol.x, sol.y[0], label=\"$H$\")\n",
        "plt.plot(sol.x, sol.y[1], label=\"$dH/dX$\")\n",
        "plt.xlabel(\"$X$\")\n",
        "plt.legend()\n",
        "plt.title(\"N-N boundary\")\n",
        "\n",
        "print(\"=\"*10, \"Tesing of D-D boundary conditions\", \"=\"*10)\n",
        "plt.figure()\n",
        "sol = bvp_profile(10, 100, type=(\"d\", \"d\"), p=(1, 1))\n",
        "plt.plot(sol.x, sol.y[0], label=\"$H$\")\n",
        "plt.plot(sol.x, sol.y[1], label=\"$dH/dX$\")\n",
        "plt.xlabel(\"$X$\")\n",
        "plt.legend()\n",
        "plt.title(\"D-D boundary\")"
      ],
      "execution_count": 87,
      "outputs": [
        {
          "output_type": "stream",
          "text": [
            "========== Tesing of D-N boundary conditions ==========\n",
            "========== Tesing of N-N boundary conditions ==========\n",
            "========== Tesing of D-D boundary conditions ==========\n"
          ],
          "name": "stdout"
        },
        {
          "output_type": "execute_result",
          "data": {
            "text/plain": [
              "Text(0.5, 1.0, 'D-D boundary')"
            ]
          },
          "metadata": {
            "tags": []
          },
          "execution_count": 87
        },
        {
          "output_type": "display_data",
          "data": {
            "image/png": "[encoded data removed]",
            "text/plain": [
              "<Figure size 432x288 with 1 Axes>"
            ]
          },
          "metadata": {
            "tags": [],
            "needs_background": "light"
          }
        },
        {
          "output_type": "display_data",
          "data": {
            "image/png": "[encoded data removed]",
            "text/plain": [
              "<Figure size 432x288 with 1 Axes>"
            ]
          },
          "metadata": {
            "tags": [],
            "needs_background": "light"
          }
        },
        {
          "output_type": "display_data",
          "data": {
            "image/png": "[encoded data removed]",
            "text/plain": [
              "<Figure size 432x288 with 1 Axes>"
            ]
          },
          "metadata": {
            "tags": [],
            "needs_background": "light"
          }
        }
      ]
    },
    {
      "cell_type": "markdown",
      "metadata": {
        "id": "wJMMa2v-uA72",
        "colab_type": "text"
      },
      "source": [
        "As can be seen, the boundary layer feature can be correctly captured. Additionally, let's calculate the $\\theta - H(0)$ relation in the original question"
      ]
    },
    {
      "cell_type": "code",
      "metadata": {
        "id": "dBv2PW52uWzA",
        "colab_type": "code",
        "colab": {
          "base_uri": "https://localhost:8080/",
          "height": 978
        },
        "outputId": "025a2464-711c-4eab-969c-1abf4a5a7ded"
      },
      "source": [
        "thetas = np.arange(10, 170)\n",
        "dHdX0s = -1 / np.tan(np.radians(thetas))\n",
        "print(dHdX0s)\n",
        "H0s = np.empty_like(dHdX0s)\n",
        "for i in range(len(dHdX0s)):\n",
        "  dhdx0 = dHdX0s[i]\n",
        "  sol = bvp_profile(10, 100, type=(\"n\", \"n\"), p=(dhdx0, 0))\n",
        "  H0s[i] = sol.y[0, 0]\n",
        "plt.plot(thetas, H0s)\n",
        "plt.xlabel(\"$\\theta$\")\n",
        "plt.ylabel(\"$H(0)$\")\n"
      ],
      "execution_count": 90,
      "outputs": [
        {
          "output_type": "stream",
          "text": [
            "[-5.67128182e+00 -5.14455402e+00 -4.70463011e+00 -4.33147587e+00\n",
            " -4.01078093e+00 -3.73205081e+00 -3.48741444e+00 -3.27085262e+00\n",
            " -3.07768354e+00 -2.90421088e+00 -2.74747742e+00 -2.60508906e+00\n",
            " -2.47508685e+00 -2.35585237e+00 -2.24603677e+00 -2.14450692e+00\n",
            " -2.05030384e+00 -1.96261051e+00 -1.88072647e+00 -1.80404776e+00\n",
            " -1.73205081e+00 -1.66427948e+00 -1.60033453e+00 -1.53986496e+00\n",
            " -1.48256097e+00 -1.42814801e+00 -1.37638192e+00 -1.32704482e+00\n",
            " -1.27994163e+00 -1.23489716e+00 -1.19175359e+00 -1.15036841e+00\n",
            " -1.11061251e+00 -1.07236871e+00 -1.03553031e+00 -1.00000000e+00\n",
            " -9.65688775e-01 -9.32515086e-01 -9.00404044e-01 -8.69286738e-01\n",
            " -8.39099631e-01 -8.09784033e-01 -7.81285627e-01 -7.53554050e-01\n",
            " -7.26542528e-01 -7.00207538e-01 -6.74508517e-01 -6.49407593e-01\n",
            " -6.24869352e-01 -6.00860619e-01 -5.77350269e-01 -5.54309051e-01\n",
            " -5.31709432e-01 -5.09525449e-01 -4.87732589e-01 -4.66307658e-01\n",
            " -4.45228685e-01 -4.24474816e-01 -4.04026226e-01 -3.83864035e-01\n",
            " -3.63970234e-01 -3.44327613e-01 -3.24919696e-01 -3.05730681e-01\n",
            " -2.86745386e-01 -2.67949192e-01 -2.49328003e-01 -2.30868191e-01\n",
            " -2.12556562e-01 -1.94380309e-01 -1.76326981e-01 -1.58384440e-01\n",
            " -1.40540835e-01 -1.22784561e-01 -1.05104235e-01 -8.74886635e-02\n",
            " -6.99268119e-02 -5.24077793e-02 -3.49207695e-02 -1.74550649e-02\n",
            " -6.12323400e-17  1.74550649e-02  3.49207695e-02  5.24077793e-02\n",
            "  6.99268119e-02  8.74886635e-02  1.05104235e-01  1.22784561e-01\n",
            "  1.40540835e-01  1.58384440e-01  1.76326981e-01  1.94380309e-01\n",
            "  2.12556562e-01  2.30868191e-01  2.49328003e-01  2.67949192e-01\n",
            "  2.86745386e-01  3.05730681e-01  3.24919696e-01  3.44327613e-01\n",
            "  3.63970234e-01  3.83864035e-01  4.04026226e-01  4.24474816e-01\n",
            "  4.45228685e-01  4.66307658e-01  4.87732589e-01  5.09525449e-01\n",
            "  5.31709432e-01  5.54309051e-01  5.77350269e-01  6.00860619e-01\n",
            "  6.24869352e-01  6.49407593e-01  6.74508517e-01  7.00207538e-01\n",
            "  7.26542528e-01  7.53554050e-01  7.81285627e-01  8.09784033e-01\n",
            "  8.39099631e-01  8.69286738e-01  9.00404044e-01  9.32515086e-01\n",
            "  9.65688775e-01  1.00000000e+00  1.03553031e+00  1.07236871e+00\n",
            "  1.11061251e+00  1.15036841e+00  1.19175359e+00  1.23489716e+00\n",
            "  1.27994163e+00  1.32704482e+00  1.37638192e+00  1.42814801e+00\n",
            "  1.48256097e+00  1.53986496e+00  1.60033453e+00  1.66427948e+00\n",
            "  1.73205081e+00  1.80404776e+00  1.88072647e+00  1.96261051e+00\n",
            "  2.05030384e+00  2.14450692e+00  2.24603677e+00  2.35585237e+00\n",
            "  2.47508685e+00  2.60508906e+00  2.74747742e+00  2.90421088e+00\n",
            "  3.07768354e+00  3.27085262e+00  3.48741444e+00  3.73205081e+00\n",
            "  4.01078093e+00  4.33147587e+00  4.70463011e+00  5.14455402e+00]\n"
          ],
          "name": "stdout"
        },
        {
          "output_type": "execute_result",
          "data": {
            "text/plain": [
              "Text(0, 0.5, '$H(0)$')"
            ]
          },
          "metadata": {
            "tags": []
          },
          "execution_count": 90
        },
        {
          "output_type": "display_data",
          "data": {
            "image/png": "[encoded data removed]",
            "text/plain": [
              "<Figure size 432x288 with 1 Axes>"
            ]
          },
          "metadata": {
            "tags": [],
            "needs_background": "light"
          }
        }
      ]
    }
  ]
}